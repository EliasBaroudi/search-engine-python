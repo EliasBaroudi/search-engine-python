{
 "cells": [
  {
   "cell_type": "code",
   "execution_count": 1,
   "id": "90c547ca",
   "metadata": {},
   "outputs": [
    {
     "data": {
      "application/vnd.jupyter.widget-view+json": {
       "model_id": "c62ea32831514c47841c2028ce2adc78",
       "version_major": 2,
       "version_minor": 0
      },
      "text/plain": [
       "VBox(children=(Label(value='Moteur de Recherche Cybersécurité'), HBox(children=(Text(value='', description='Re…"
      ]
     },
     "metadata": {},
     "output_type": "display_data"
    }
   ],
   "source": [
    "\n",
    "from Corpus import Corpus\n",
    "from Classes import SearchingEngine\n",
    "\n",
    "# Charger le corpus\n",
    "corpus = Corpus(\"Corpus CVE\")\n",
    "\n",
    "# Initialiser le moteur de recherche\n",
    "search_engine = SearchingEngine(corpus)\n",
    "\n",
    "# Interface textuelle simple\n",
    "from ipywidgets import Text, IntSlider, Button, VBox, HBox, Output, Label\n",
    "from IPython.display import display\n",
    "\n",
    "# Widgets\n",
    "title = Label(\"Moteur de Recherche Cybersécurité\")\n",
    "search_box = Text(description=\"Requête:\")\n",
    "slider = IntSlider(description=\"Résultats:\", min=1, max=20, value=5)\n",
    "search_button = Button(description=\"Rechercher\")\n",
    "output = Output()\n",
    "\n",
    "# Interface\n",
    "interface = VBox([\n",
    "    title,\n",
    "    HBox([search_box, slider]),\n",
    "    search_button,\n",
    "    output\n",
    "])\n",
    "\n",
    "# Fonction de recherche\n",
    "def on_search_click(b):\n",
    "    with output:\n",
    "        output.clear_output()\n",
    "        query = search_box.value\n",
    "        limit = slider.value\n",
    "        if not query.strip():\n",
    "            print(\"Veuillez entrer une requête valide.\")\n",
    "            return\n",
    "        results = search_engine.search(query, limit)\n",
    "        if results.empty:\n",
    "            print(\"Aucun résultat trouvé.\")\n",
    "        else:\n",
    "            display(results)\n",
    "\n",
    "search_button.on_click(on_search_click)\n",
    "\n",
    "# Afficher l'interface\n",
    "display(interface)\n"
   ]
  },
  {
   "cell_type": "code",
   "execution_count": null,
   "id": "0f780fc5",
   "metadata": {},
   "outputs": [],
   "source": []
  }
 ],
 "metadata": {
  "kernelspec": {
   "display_name": "Python 3 (ipykernel)",
   "language": "python",
   "name": "python3"
  },
  "language_info": {
   "codemirror_mode": {
    "name": "ipython",
    "version": 3
   },
   "file_extension": ".py",
   "mimetype": "text/x-python",
   "name": "python",
   "nbconvert_exporter": "python",
   "pygments_lexer": "ipython3",
   "version": "3.11.5"
  }
 },
 "nbformat": 4,
 "nbformat_minor": 5
}
